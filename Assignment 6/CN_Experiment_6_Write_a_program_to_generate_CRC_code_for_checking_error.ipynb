{
  "nbformat": 4,
  "nbformat_minor": 0,
  "metadata": {
    "colab": {
      "provenance": []
    },
    "kernelspec": {
      "name": "python3",
      "display_name": "Python 3"
    },
    "language_info": {
      "name": "python"
    }
  },
  "cells": [
    {
      "cell_type": "markdown",
      "source": [
        "#**Experiment 6 - Write a program to generate CRC code for checking error.**\n",
        "\n",
        "---\n",
        "\n"
      ],
      "metadata": {
        "id": "LlRrysJ-FlQP"
      }
    },
    {
      "cell_type": "code",
      "source": [
        "import numpy as np\n",
        "\n",
        "def xor(a, b):\n",
        "    return [i ^ j for i, j in zip(a, b)]\n",
        "\n",
        "def encode(data_input , key):\n",
        "    data = data_input[:]\n",
        "    temp = data + [0, 0, 0]\n",
        "\n",
        "    if data[0] == 1:\n",
        "        m = [1]\n",
        "        temp = xor(temp, key)\n",
        "    else:\n",
        "        m = [0]\n",
        "        temp = xor(temp, [0, 0, 0, 0])\n",
        "\n",
        "    for _ in range(3):\n",
        "        temp = temp[1:] + [0]\n",
        "        if temp[0] == 1:\n",
        "            m.append(1)\n",
        "            temp = xor(temp, key)\n",
        "        else:\n",
        "            m.append(0)\n",
        "            temp = xor(temp, [0, 0, 0, 0])\n",
        "\n",
        "    print(\"Remainder: \", temp)\n",
        "    data_crc = data + temp[1:]\n",
        "    print(\"encoded Data with CRC: \", data_crc)\n",
        "    return data_crc\n",
        "\n",
        "def decode(data_input , key):\n",
        "    data = data_input[:]\n",
        "    temp = data\n",
        "\n",
        "    if data[0] == 1:\n",
        "        m = [1]\n",
        "        temp = xor(temp, key)\n",
        "    else:\n",
        "        m = [0]\n",
        "        temp = xor(temp, [0, 0, 0, 0])\n",
        "\n",
        "    for _ in range(3):\n",
        "        temp = temp[1:] + [0]\n",
        "        if temp[0] == 1:\n",
        "            m.append(1)\n",
        "            temp = xor(temp, key)\n",
        "        else:\n",
        "            m.append(0)\n",
        "            temp = xor(temp, [0, 0, 0, 0])\n",
        "\n",
        "    print(\"Remainder: \", temp)\n",
        "    return temp[1:]\n",
        "\n",
        "# Example usage:\n",
        "data_input = [int(x) for x in input(\"Enter data bits separated by space: \").split()]\n",
        "key = [int(x) for x in input(\"Enter the key separated by space: \").split()]\n",
        "encode(data_input,key)\n",
        "\n",
        "encode_data_input = [int(x) for x in input(\"Enter encoded data bits separated by space: \").split()]\n",
        "if decode(encode_data_input,key) == [0,0,0]:\n",
        "    print(\"no error\")\n",
        "else:\n",
        "    print(\"error\")\n"
      ],
      "metadata": {
        "colab": {
          "base_uri": "https://localhost:8080/"
        },
        "id": "n_mPbGn9IGo8",
        "outputId": "3d285a53-a2ee-42a8-a91b-16c8c6c8b67f"
      },
      "execution_count": null,
      "outputs": [
        {
          "output_type": "stream",
          "name": "stdout",
          "text": [
            "Enter data bits separated by space: 1 0 0 1\n",
            "Enter the key separated by space: 1 0 1 1\n",
            "Remainder:  [0, 1, 1, 0]\n",
            "encoded Data with CRC:  [1, 0, 0, 1, 1, 1, 0]\n",
            "Enter encoded data bits separated by space: 1 0 0 1 1 1 0\n",
            "Remainder:  [0, 1, 1, 0]\n",
            "error\n"
          ]
        }
      ]
    }
  ]
}